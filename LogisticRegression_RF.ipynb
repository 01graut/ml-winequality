{
 "cells": [
  {
   "cell_type": "markdown",
   "metadata": {},
   "source": [
    "## LOGISTIC REGRESSION IMPLEMTATION"
   ]
  },
  {
   "cell_type": "code",
   "execution_count": 2,
   "metadata": {},
   "outputs": [
    {
     "name": "stderr",
     "output_type": "stream",
     "text": [
      "24/03/30 16:38:27 WARN Utils: Your hostname, codespaces-233249 resolves to a loopback address: 127.0.0.1; using 172.16.5.4 instead (on interface eth0)\n",
      "24/03/30 16:38:27 WARN Utils: Set SPARK_LOCAL_IP if you need to bind to another address\n",
      "Setting default log level to \"WARN\".\n",
      "To adjust logging level use sc.setLogLevel(newLevel). For SparkR, use setLogLevel(newLevel).\n",
      "24/03/30 16:38:28 WARN NativeCodeLoader: Unable to load native-hadoop library for your platform... using builtin-java classes where applicable\n",
      "24/03/30 16:38:29 WARN Utils: Service 'SparkUI' could not bind on port 4040. Attempting port 4041.\n",
      "24/03/30 16:38:40 WARN InstanceBuilder: Failed to load implementation from:dev.ludovic.netlib.blas.JNIBLAS\n",
      "24/03/30 16:38:40 WARN InstanceBuilder: Failed to load implementation from:dev.ludovic.netlib.blas.VectorBLAS\n",
      "24/03/30 16:38:41 WARN GarbageCollectionMetrics: To enable non-built-in garbage collector(s) List(G1 Concurrent GC), users should configure it(them) to spark.eventLog.gcMetrics.youngGenerationGarbageCollectors or spark.eventLog.gcMetrics.oldGenerationGarbageCollectors\n"
     ]
    }
   ],
   "source": [
    "from pyspark.sql import SparkSession\n",
    "from pyspark.ml.feature import VectorAssembler, StringIndexer\n",
    "from pyspark.ml.classification import LogisticRegression\n",
    "from pyspark.ml import Pipeline\n",
    "from pyspark.ml.evaluation import MulticlassClassificationEvaluator\n",
    "\n",
    "# Initialize Spark Session\n",
    "spark = SparkSession.builder.appName(\"WineQualityPrediction\").getOrCreate()\n",
    "\n",
    "# Load training data\n",
    "data_path = \"/workspaces/ml-winequality/dataset/TrainingDataset.csv\"\n",
    "\n",
    "trainingData = spark.read.csv(data_path, header=True, \n",
    "                      inferSchema=True,\n",
    "                      sep=';'\n",
    "                      ,quote='\"')\n",
    "\n",
    "# Used copilot how to get rid of quotes from colum header\n",
    "new_column_names = [col_name.strip('\"') for col_name in trainingData.columns]\n",
    "trainingData = trainingData.toDF(*new_column_names)\n",
    "\n",
    "# Preprocess data: convert features into a feature vector, index labels\n",
    "featureAssembler = VectorAssembler(inputCols=trainingData.columns[:-1], outputCol=\"features\")\n",
    "labelIndexer = StringIndexer(inputCol=\"quality\", outputCol=\"label\")\n",
    "\n",
    "# Initialize classifier: start with Logistic Regression\n",
    "classifier = LogisticRegression(featuresCol=\"features\", labelCol=\"label\", maxIter=10)\n",
    "\n",
    "# Create a Pipeline\n",
    "pipeline = Pipeline(stages=[featureAssembler, labelIndexer, classifier])\n",
    "\n",
    "# Train model\n",
    "model = pipeline.fit(trainingData)\n",
    "\n",
    "# Save model\n",
    "# model.write().overwrite().save(\"s3://path/to/Model\")\n",
    "\n",
    "\n"
   ]
  },
  {
   "cell_type": "code",
   "execution_count": 3,
   "metadata": {},
   "outputs": [],
   "source": [
    "# Save model\n",
    "model.write().overwrite().save(\"/workspaces/ml-winequality/model/wine_quality_model_logistic\")"
   ]
  },
  {
   "cell_type": "markdown",
   "metadata": {},
   "source": [
    "## Model Evaluation and Tuning"
   ]
  },
  {
   "cell_type": "code",
   "execution_count": 4,
   "metadata": {},
   "outputs": [
    {
     "name": "stdout",
     "output_type": "stream",
     "text": [
      "F1 Score: 0.5794684379508829\n"
     ]
    }
   ],
   "source": [
    "# Load validation data\n",
    "validpath = \"/workspaces/ml-winequality/dataset/ValidationDataset.csv\"\n",
    "validationData = spark.read.csv(data_path, header=True, \n",
    "                      inferSchema=True,\n",
    "                      sep=';'\n",
    "                      ,quote='\"')\n",
    "\n",
    "\n",
    "# Used copilot how to get rid of quotes from colum header\n",
    "new_column_names = [col_name.strip('\"') for col_name in validationData.columns]\n",
    "validationData = validationData.toDF(*new_column_names)\n",
    "\n",
    "# Load model\n",
    "from pyspark.ml import PipelineModel\n",
    "model = PipelineModel.load(\"/workspaces/ml-winequality/model/wine_quality_model_logistic\")\n",
    "\n",
    "# Make predictions\n",
    "predictions = model.transform(validationData)\n",
    "\n",
    "# Evaluate model\n",
    "evaluator = MulticlassClassificationEvaluator(labelCol=\"label\", predictionCol=\"prediction\", metricName=\"f1\")\n",
    "f1_score = evaluator.evaluate(predictions)\n",
    "print(f\"F1 Score: {f1_score}\")\n",
    "# F1 Score: 0.5794684379508829\n"
   ]
  }
 ],
 "metadata": {
  "kernelspec": {
   "display_name": ".venv",
   "language": "python",
   "name": "python3"
  },
  "language_info": {
   "codemirror_mode": {
    "name": "ipython",
    "version": 3
   },
   "file_extension": ".py",
   "mimetype": "text/x-python",
   "name": "python",
   "nbconvert_exporter": "python",
   "pygments_lexer": "ipython3",
   "version": "3.10.12"
  }
 },
 "nbformat": 4,
 "nbformat_minor": 2
}
